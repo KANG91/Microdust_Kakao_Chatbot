{
 "cells": [
  {
   "cell_type": "markdown",
   "metadata": {},
   "source": [
    "## 한국환경공단 대기오염 API를 이용한 미세먼지 데이터 가져오기"
   ]
  },
  {
   "cell_type": "code",
   "execution_count": 2,
   "metadata": {
    "collapsed": true
   },
   "outputs": [],
   "source": [
    "import requests\n",
    "from bs4 import BeautifulSoup\n",
    "import pickle"
   ]
  },
  {
   "cell_type": "code",
   "execution_count": 3,
   "metadata": {
    "collapsed": true
   },
   "outputs": [],
   "source": [
    "#미세먼지 및 초미세먼지 농도별 등급 판정\n",
    "def grade(num) : \n",
    "    try :\n",
    "        num = int(num)\n",
    "        if num >=0 and num <= 30 : \n",
    "            result = \"좋음\"\n",
    "        elif num > 30 and num <= 80 :\n",
    "            result = \"보통\"\n",
    "        elif num > 80 and num <= 150 : \n",
    "            result = \"나쁨\"\n",
    "        else :\n",
    "            result = \"매우나쁨\"\n",
    "    except : \n",
    "        result = \"-\"\n",
    "    return result\n",
    "\n",
    "def nano_grade(num) : \n",
    "    try : \n",
    "        num = int(num)\n",
    "        if num >=0 and num <= 15 : \n",
    "            result = \"좋음\"\n",
    "        elif num > 15 and num <= 35 :\n",
    "            result = \"보통\"\n",
    "        elif num > 35 and num <= 75 : \n",
    "            result = \"나쁨\"\n",
    "        else :\n",
    "            result = \"매우나쁨\"\n",
    "    except : \n",
    "        result = \"-\"\n",
    "    return result"
   ]
  },
  {
   "cell_type": "markdown",
   "metadata": {},
   "source": [
    "---------"
   ]
  },
  {
   "cell_type": "markdown",
   "metadata": {},
   "source": [
    "## 1. 측정소 정보 조회\n",
    "- 대기질 측정소 정보를 조회하기 위해 TM 좌표 기반의 가까운 측정소 및 측정소 목록과 측정소의 정보를 조회할 수 있음.\n",
    "- 입력값 : 미세먼지 농도를 알고 싶은 위치의 주소명\n",
    "- 출력값 : 위치에 대한 TM좌표\n",
    "- 환경공단의 API가 인지하지 못하는 지역위치 값 입력시\n",
    "> 구글 API로 위치 재조정"
   ]
  },
  {
   "cell_type": "code",
   "execution_count": 8,
   "metadata": {},
   "outputs": [],
   "source": [
    "with open('secret/get_tm_coor_key.txt', 'rb') as f :\n",
    "    get_tm_coor_key = pickle.load(f)"
   ]
  },
  {
   "cell_type": "code",
   "execution_count": 32,
   "metadata": {
    "collapsed": true
   },
   "outputs": [],
   "source": [
    "with open(\"secret/google_secret_key.txt\", \"rb\") as f :\n",
    "    google_secret_key = pickle.load(f)"
   ]
  },
  {
   "cell_type": "code",
   "execution_count": 53,
   "metadata": {
    "collapsed": true
   },
   "outputs": [],
   "source": [
    "def get_tm_coor(loc) : \n",
    "    url = \"http://openapi.airkorea.or.kr/openapi/services/rest/MsrstnInfoInqireSvc/getTMStdrCrdnt?umdName=\"+ loc +\"&pageNo=1&numOfRows=10&ServiceKey=\" + get_tm_coor_key\n",
    "    response = requests.get(url)\n",
    "    dom = BeautifulSoup(response.content, \"html.parser\")\n",
    "    count = int(dom.select(\"totalcount\")[0].text)\n",
    "    \n",
    "    if count == 0 :\n",
    "        \n",
    "        try : \n",
    "            gmaps = googlemaps.Client(key = google_secret_key)\n",
    "            place_information = gmaps.geocode(loc, language = 'ko')\n",
    "            loc = place_information[0]['address_components'][1]['long_name']\n",
    "            X, Y = get_tm_coor(loc)\n",
    "            result = X, Y\n",
    "        except : \n",
    "            result = \"요청하신 지역에 오타가 있는지 확인해주세요!\"\n",
    "        \n",
    "    else : \n",
    "        \n",
    "        X = dom.select(\"tmx\")[0].text\n",
    "        Y = dom.select(\"tmy\")[0].text\n",
    "        result = X, Y\n",
    "        \n",
    "    return result"
   ]
  },
  {
   "cell_type": "markdown",
   "metadata": {},
   "source": [
    "-----------"
   ]
  },
  {
   "cell_type": "markdown",
   "metadata": {},
   "source": [
    "## 1-1. 구글 API를 이용한 지역명 조정\n",
    "- 한국 환경공단 대기오염 API가 인지하지 못하는 지역명을 조정표"
   ]
  },
  {
   "cell_type": "code",
   "execution_count": 24,
   "metadata": {
    "collapsed": true
   },
   "outputs": [],
   "source": [
    "import googlemaps\n",
    "def get_good_name(place) : \n",
    "    try : \n",
    "        gmaps = googlemaps.Client(key = google_secret_key)\n",
    "        place_information = gmaps.geocode(place, language = 'ko')\n",
    "        result = place_information[0]['address_components'][1]['long_name']\n",
    "    except : \n",
    "        result = \"요청하신 지역에 오타가 있는지 확인해주세요!\"\n",
    "    return result"
   ]
  },
  {
   "cell_type": "markdown",
   "metadata": {},
   "source": [
    "## TM 기준좌표 조회\n",
    "- 검색서비스를 사용하여 읍면동 이름을 검색조건으로 기준좌표 (TM좌표)정보를 제공하는 서비스\n",
    "- 입력값으로는 TM좌표를 입력\n",
    "* TM 좌표는, 위경도와 형태는 비슷하나 내용은 다른 위치 표기법"
   ]
  },
  {
   "cell_type": "code",
   "execution_count": 12,
   "metadata": {},
   "outputs": [],
   "source": [
    "with open(\"secret/tm_station_key.txt\", \"rb\") as f :\n",
    "    tm_station_key = pickle.load(f)"
   ]
  },
  {
   "cell_type": "code",
   "execution_count": 13,
   "metadata": {
    "collapsed": true
   },
   "outputs": [],
   "source": [
    "def nearest_station(X, Y) : \n",
    "    url = \"http://openapi.airkorea.or.kr/openapi/services/rest/MsrstnInfoInqireSvc/getNearbyMsrstnList?tmX=\\\n",
    "    \" + X + \"&tmY=\" + Y +\"&pageNo=1&numOfRows=10&ServiceKey=\" + tm_station_key\n",
    "    response = requests.get(url)\n",
    "    dom = BeautifulSoup(response.content, \"html.parser\")\n",
    "    name = dom.select(\"stationname\")[0].text\n",
    "    distance = dom.select(\"tm\")[0].text\n",
    "    return name, distance + \"km\""
   ]
  },
  {
   "cell_type": "code",
   "execution_count": 14,
   "metadata": {
    "collapsed": true
   },
   "outputs": [],
   "source": [
    "X, Y = get_tm_coor(\"병점동\")"
   ]
  },
  {
   "cell_type": "code",
   "execution_count": 15,
   "metadata": {
    "scrolled": false
   },
   "outputs": [
    {
     "data": {
      "text/plain": [
       "('동탄', '3.1km')"
      ]
     },
     "execution_count": 15,
     "metadata": {},
     "output_type": "execute_result"
    }
   ],
   "source": [
    "nearest_station(X, Y)"
   ]
  },
  {
   "cell_type": "markdown",
   "metadata": {},
   "source": [
    "--------"
   ]
  },
  {
   "cell_type": "markdown",
   "metadata": {},
   "source": [
    "## 실시간 미세 먼지 조회\n",
    "- 위치를 입력받아 실제로 미세먼지를 결과값으로 도출하는 함수"
   ]
  },
  {
   "cell_type": "code",
   "execution_count": 22,
   "metadata": {
    "collapsed": true
   },
   "outputs": [],
   "source": [
    "def microdust_1(loc) : \n",
    "    url = \"http://openapi.airkorea.or.kr/openapi/services/rest/ArpltnInforInqireSvc/getMsrstnAcctoRltmMesureDnsty?stationName=\"+loc+\"&dataTerm=month&pageNo=1&numOfRows=10&ServiceKey=\"+ tm_station_key + \"&ver=1.3\"\n",
    "    response = requests.get(url)\n",
    "    dom = BeautifulSoup(response.content, \"html.parser\")\n",
    "    date = dom.select(\"datatime\")[0].text\n",
    "    pm10 = dom.select(\"pm10value\")[0].text\n",
    "    pm25 = dom.select(\"pm25value\")[0].text\n",
    "    result = '''{}에 관측했을 때, \n",
    "    미세먼지 농도 : {}({}), \n",
    "    초 미세먼지 농도 : {}({})였습니다!'''.format(date, pm10, grade(pm10),  pm25, nano_grade(pm25))\n",
    "    return result"
   ]
  },
  {
   "cell_type": "markdown",
   "metadata": {},
   "source": [
    "## 최종 함수\n",
    "- 알고 싶은 위치에서 가장 가까운 관측소에서 측정한 미세먼지 및 초미세먼지 농도를 출력"
   ]
  },
  {
   "cell_type": "code",
   "execution_count": 19,
   "metadata": {},
   "outputs": [],
   "source": [
    "def get_microdust(place) : \n",
    "    try : \n",
    "        X, Y = get_tm_coor(place)\n",
    "    except :\n",
    "        get_good_name \n",
    "        name, distance = nearest_station(X, Y)\n",
    "        result = microdust_1(name)\n",
    "        \n",
    "    return result, name, distance"
   ]
  },
  {
   "cell_type": "code",
   "execution_count": 59,
   "metadata": {
    "scrolled": true
   },
   "outputs": [
    {
     "data": {
      "text/plain": [
       "('2018-05-06 10:00에 관측했을 때, \\n    미세먼지 농도 : -(-), \\n    초 미세먼지 농도 : 13(좋음)였습니다!',\n",
       " '관악구',\n",
       " '2.9km')"
      ]
     },
     "execution_count": 59,
     "metadata": {},
     "output_type": "execute_result"
    }
   ],
   "source": [
    "get_microdust(\"\")"
   ]
  }
 ],
 "metadata": {
  "kernelspec": {
   "display_name": "Python 3",
   "language": "python",
   "name": "python3"
  },
  "language_info": {
   "codemirror_mode": {
    "name": "ipython",
    "version": 3
   },
   "file_extension": ".py",
   "mimetype": "text/x-python",
   "name": "python",
   "nbconvert_exporter": "python",
   "pygments_lexer": "ipython3",
   "version": "3.6.3"
  }
 },
 "nbformat": 4,
 "nbformat_minor": 2
}
