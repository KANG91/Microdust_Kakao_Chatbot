{
 "cells": [
  {
   "cell_type": "markdown",
   "metadata": {},
   "source": [
    "## 한국환경공단 대기오염 API를 이용한 미세먼지 데이터 가져오기"
   ]
  },
  {
   "cell_type": "code",
   "execution_count": 1,
   "metadata": {},
   "outputs": [],
   "source": [
    "import requests\n",
    "from bs4 import BeautifulSoup\n",
    "import pickle\n",
    "import googlemaps\n",
    "from gensim.models import Word2Vec"
   ]
  },
  {
   "cell_type": "code",
   "execution_count": 2,
   "metadata": {},
   "outputs": [],
   "source": [
    "#미세먼지 및 초미세먼지 농도별 등급 판정\n",
    "def grade(num) : \n",
    "    try :\n",
    "        num = int(num)\n",
    "        if num >=0 and num <= 30 : \n",
    "            result = \"좋음\"\n",
    "        elif num > 30 and num <= 80 :\n",
    "            result = \"보통\"\n",
    "        elif num > 80 and num <= 150 : \n",
    "            result = \"나쁨\"\n",
    "        else :\n",
    "            result = \"매우나쁨\"\n",
    "    except : \n",
    "        result = \"-\"\n",
    "    return result\n",
    "\n",
    "def nano_grade(num) : \n",
    "    try : \n",
    "        num = int(num)\n",
    "        if num >=0 and num <= 15 : \n",
    "            result = \"좋음\"\n",
    "        elif num > 15 and num <= 35 :\n",
    "            result = \"보통\"\n",
    "        elif num > 35 and num <= 75 : \n",
    "            result = \"나쁨\"\n",
    "        else :\n",
    "            result = \"매우나쁨\"\n",
    "    except : \n",
    "        result = \"-\"\n",
    "    return result"
   ]
  },
  {
   "cell_type": "markdown",
   "metadata": {},
   "source": [
    "---------"
   ]
  },
  {
   "cell_type": "markdown",
   "metadata": {},
   "source": [
    "#### 환경오염공단 API 키 불러오기"
   ]
  },
  {
   "cell_type": "code",
   "execution_count": 3,
   "metadata": {},
   "outputs": [],
   "source": [
    "with open('secret/get_tm_coor_key.txt', 'rb') as f :\n",
    "    get_tm_coor_key = pickle.load(f)"
   ]
  },
  {
   "cell_type": "code",
   "execution_count": 4,
   "metadata": {},
   "outputs": [],
   "source": [
    "with open(\"secret/google_secret_key.txt\", \"rb\") as f :\n",
    "    google_secret_key = pickle.load(f)"
   ]
  },
  {
   "cell_type": "markdown",
   "metadata": {},
   "source": [
    "## 1. 측정소 정보 조회\n",
    "- 대기질 측정소 정보를 조회하기 위해 TM 좌표 기반의 가까운 측정소 및 측정소 목록과 측정소의 정보를 조회할 수 있음.\n",
    "- 입력값 : 미세먼지 농도를 알고 싶은 위치의 주소명\n",
    "- 출력값 : 위치에 대한 TM좌표\n",
    "- 환경공단의 API가 인지하지 못하는 지역위치 값 입력시\n",
    "> 구글 API로 위치 재조정"
   ]
  },
  {
   "cell_type": "code",
   "execution_count": 23,
   "metadata": {},
   "outputs": [],
   "source": [
    "model_seoul = Word2Vec.load(\"model_gwangju\")"
   ]
  },
  {
   "cell_type": "code",
   "execution_count": 26,
   "metadata": {
    "scrolled": true
   },
   "outputs": [
    {
     "data": {
      "text/plain": [
       "[('송하동', 0.2517915368080139),\n",
       " ('신장동', 0.2004966139793396),\n",
       " ('금호1동', 0.20010773837566376),\n",
       " ('운암3동', 0.19962099194526672),\n",
       " ('양림동', 0.18132326006889343),\n",
       " ('박호동', 0.1679231971502304),\n",
       " ('운림동', 0.16458898782730103),\n",
       " ('승촌동', 0.1280474066734314),\n",
       " ('운암2동', 0.1269875317811966),\n",
       " ('지원1동', 0.1248268187046051)]"
      ]
     },
     "execution_count": 26,
     "metadata": {},
     "output_type": "execute_result"
    }
   ],
   "source": [
    "model_seoul.wv.most_similar(\"치평동\")"
   ]
  },
  {
   "cell_type": "code",
   "execution_count": null,
   "metadata": {},
   "outputs": [],
   "source": [
    "def get_tm_coor(loc) :\n",
    "    \n",
    "    #가독성을 위한 구글 주소 정보 속 긴 키워드들을 정리\n",
    "    format_add = \"formatted_address\"\n",
    "    add_compo = \"address_components\"\n",
    "    ad_level = \"administrative_area_level_1\" # 광역시, 도\n",
    "    local = \"locality\" # 시\n",
    "    sub_1 = 'sublocality_level_1' #구\n",
    "    sub_2 = 'sublocality_level_2' #동, 면\n",
    "    \n",
    "    korea = {\n",
    "        \"서울특별시\" : \"seoul\",\n",
    "        \"울산광역시\" : \"ulsan\",\n",
    "        \"세종광역시\" : \"sejong\",\n",
    "        \"전라남도\" : \"junnam\",\n",
    "        \"전라북도\" : \"junbuk\",\n",
    "        \"제주특별자치도\" : \"jeju\",\n",
    "        \"인천광역시\" : \"incheon\",\n",
    "        \"경상남도\" : \"gyungnam\",\n",
    "        \"경상북도\" : \"gyungbuk\",\n",
    "        \"광주광역시\" : \"gwangju\",\n",
    "        \"강원도\" : \"kangwon\",\n",
    "        \"대전광역시\" : \"daejeon\",\n",
    "        \"충청남도\" : \"chungnam\",\n",
    "        \"충청북도\" : \"chungbuk\",\n",
    "        \"경기도\" : \"gyunggi\",\n",
    "        \"대구광역시\" : \"daegu\",\n",
    "        \n",
    "    }\n",
    "    \n",
    "    #구글 API를 이용, 사용자가 알고자 하는 지역의 주소 정보 받기\n",
    "    gmaps = googlemaps.Client(key = google_secret_key)\n",
    "    place_info = gmaps.geocode(loc, language = 'ko')\n",
    "    place_info = place_info[0][add_compo]\n",
    "    \n",
    "    \n",
    "    try : \n",
    "        # 해당 지역의 데이터(json)에서 도(광역시), 시, 동(구) 정리\n",
    "        # 에러 방지, 해당 지역의 데이터를 가져오지 않았는데 선언하는 경우\n",
    "        \n",
    "        for idx in range(len(place_info)) :\n",
    "            if ad_level in place_info[idx]['types'] :\n",
    "                do_name = place_info[idx]['long_name']\n",
    "\n",
    "            elif local in place_info[idx]['types'] : \n",
    "                si_name = place_info[idx]['long_name']\n",
    "\n",
    "            elif sub_1 in place_info[idx]['types'] : \n",
    "                gu_name = place_info[idx]['long_name']\n",
    "\n",
    "            elif sub_2 in place_info[idx]['types'] : \n",
    "                dong_name = place_info[idx]['long_name']\n",
    "                \n",
    "        #환경공단 API가 동이름을 인식하지 못하는 경우, 주변 동을 대입해 결과물 출력(코사인 유사도 기반)\n",
    "        count = 0\n",
    "\n",
    "        while count != 1 :\n",
    "            model = Word2Vec.load('model_' + korea[do_name])\n",
    "            similar = model.wv.most_similar(dong_name, topn = 10)\n",
    "            for idx in range(len(similar)) : \n",
    "                dong_name = similar[idx][0]\n",
    "                url = \"http://openapi.airkorea.or.kr/openapi/services/rest/MsrstnInfoInqireSvc/getTMStdrCrdnt?umdName=\"+ dong_name +\"&pageNo=1&numOfRows=10&ServiceKey=\" + get_tm_coor_key\n",
    "                response = requests.get(url)\n",
    "                dom = BeautifulSoup(response.content, \"html.parser\")\n",
    "                count = int(dom.select(\"totalcount\")[0].text)\n",
    "\n",
    "    except Exception as e: \n",
    "        result = \"error\"\n",
    "\n",
    "\n",
    "    X = dom.select(\"tmx\")[0].text\n",
    "    Y = dom.select(\"tmy\")[0].text\n",
    "    result = X, Y, do_name, dong_name\n",
    "\n",
    "    return result"
   ]
  },
  {
   "cell_type": "code",
   "execution_count": null,
   "metadata": {
    "scrolled": true
   },
   "outputs": [],
   "source": [
    "get_tm_coor(\"대구 황금동\")"
   ]
  },
  {
   "cell_type": "code",
   "execution_count": null,
   "metadata": {},
   "outputs": [],
   "source": [
    "dong_name = \"황금동\"\n",
    "url = \"http://openapi.airkorea.or.kr/openapi/services/rest/MsrstnInfoInqireSvc/getTMStdrCrdnt?umdName=\"+ dong_name +\"&pageNo=1&numOfRows=10&ServiceKey=\" + get_tm_coor_key\n",
    "response = requests.get(url)\n",
    "dom = BeautifulSoup(response.content, \"html.parser\")\n",
    "dom"
   ]
  },
  {
   "cell_type": "markdown",
   "metadata": {},
   "source": [
    "----"
   ]
  },
  {
   "cell_type": "markdown",
   "metadata": {},
   "source": [
    "## TM 기준좌표 조회\n",
    "- 검색서비스를 사용하여 읍면동 이름을 검색조건으로 기준좌표 (TM좌표)정보를 제공하는 서비스\n",
    "- 입력값으로는 TM좌표를 입력\n",
    "* TM 좌표는, 위경도와 형태는 비슷하나 내용은 다른 위치 표기법"
   ]
  },
  {
   "cell_type": "code",
   "execution_count": null,
   "metadata": {},
   "outputs": [],
   "source": [
    "with open(\"secret/tm_station_key.txt\", \"rb\") as f :\n",
    "    tm_station_key = pickle.load(f)"
   ]
  },
  {
   "cell_type": "code",
   "execution_count": null,
   "metadata": {},
   "outputs": [],
   "source": [
    "def nearest_station(X, Y) : \n",
    "    url = \"http://openapi.airkorea.or.kr/openapi/services/rest/MsrstnInfoInqireSvc/getNearbyMsrstnList?tmX=\\\n",
    "    \" + X + \"&tmY=\" + Y +\"&pageNo=1&numOfRows=10&ServiceKey=\" + tm_station_key\n",
    "    response = requests.get(url)\n",
    "    dom = BeautifulSoup(response.content, \"html.parser\")\n",
    "    name = dom.select(\"stationname\")[0].text\n",
    "    distance = dom.select(\"tm\")[0].text\n",
    "    return name, distance + \"km\""
   ]
  },
  {
   "cell_type": "markdown",
   "metadata": {},
   "source": [
    "--------"
   ]
  },
  {
   "cell_type": "markdown",
   "metadata": {},
   "source": [
    "## 실시간 미세 먼지 조회\n",
    "- 위치를 입력받아 실제로 미세먼지를 결과값으로 도출하는 함수"
   ]
  },
  {
   "cell_type": "code",
   "execution_count": null,
   "metadata": {},
   "outputs": [],
   "source": [
    "def microdust_1(loc) : \n",
    "    url = \"http://openapi.airkorea.or.kr/openapi/services/rest/ArpltnInforInqireSvc/getMsrstnAcctoRltmMesureDnsty?stationName=\"+loc+\"&dataTerm=month&pageNo=1&numOfRows=10&ServiceKey=\"+ tm_station_key + \"&ver=1.3\"\n",
    "    response = requests.get(url)\n",
    "    dom = BeautifulSoup(response.content, \"html.parser\")\n",
    "    date = dom.select(\"datatime\")[0].text\n",
    "    pm10 = dom.select(\"pm10value\")[0].text\n",
    "    pm25 = dom.select(\"pm25value\")[0].text\n",
    "    result = '''\n",
    "    \n",
    "    {}에 관측했을 때, \n",
    "    미세먼지 농도 : {}({}), \n",
    "    초 미세먼지 농도 : {}({})였습니다!\n",
    "    \n",
    "    선택하신 지역의 인접지역 미세먼지는 아래 버튼을 클릭하세요.\n",
    "    \n",
    "    '''.format(date, pm10, grade(pm10),  pm25, nano_grade(pm25))\n",
    "    return result"
   ]
  },
  {
   "cell_type": "markdown",
   "metadata": {},
   "source": [
    "## 인접 지역 추천\n",
    "- 주소를 벡터화, 코사인 유사도를 이용한 지형적 근접 지역 추천"
   ]
  },
  {
   "cell_type": "code",
   "execution_count": null,
   "metadata": {},
   "outputs": [],
   "source": []
  },
  {
   "cell_type": "markdown",
   "metadata": {},
   "source": [
    "## 최종 함수\n",
    "- 알고 싶은 위치에서 가장 가까운 관측소에서 측정한 미세먼지 및 초미세먼지 농도를 출력"
   ]
  },
  {
   "cell_type": "code",
   "execution_count": null,
   "metadata": {},
   "outputs": [],
   "source": [
    "def get_microdust(loc) :\n",
    "    try : \n",
    "        X, Y = get_tm_coor(loc)\n",
    "        name, distance = nearest_station(X, Y)\n",
    "        output_ls = []\n",
    "        result = microdust_1(name)\n",
    "    except Exception as e :\n",
    "        result = \"오타이거나 혹은 개발중인 기능을 요구하셨습니다.\"\n",
    "    return result\n",
    "    "
   ]
  },
  {
   "cell_type": "code",
   "execution_count": null,
   "metadata": {
    "scrolled": false
   },
   "outputs": [],
   "source": [
    "get_microdust(\"수원 영통동\")"
   ]
  },
  {
   "cell_type": "markdown",
   "metadata": {},
   "source": [
    "#### 클로즈 베타테스트 후 추가한 기능\n",
    "- 동이름을 말했는데 국내에 중복되는 지명이 있는 경우가 있음\n",
    "(흑석동 입력 시 -> 대전광역시 흑석동, 서울특별시 흑석동, 광주 광역시 흑석동 등)\n",
    "- 위와 같은 경우, 리스트로 사용자에게 어느 지역인지 입력하게 함"
   ]
  },
  {
   "cell_type": "code",
   "execution_count": null,
   "metadata": {},
   "outputs": [],
   "source": [
    "def check_detail(loc) : \n",
    "    url = \"http://openapi.airkorea.or.kr/openapi/services/rest/MsrstnInfoInqireSvc/getTMStdrCrdnt?umdName=\"+ loc +\"&pageNo=1&numOfRows=10&ServiceKey=\" + get_tm_coor_key\n",
    "    response = requests.get(url)\n",
    "    dom = BeautifulSoup(response.content, \"html.parser\")\n",
    "    name_ls = [name.text + \" \" + loc for name in dom.select(\"sidoname\")]\n",
    "    return name_ls\n",
    "   "
   ]
  }
 ],
 "metadata": {
  "kernelspec": {
   "display_name": "Python 3",
   "language": "python",
   "name": "python3"
  },
  "language_info": {
   "codemirror_mode": {
    "name": "ipython",
    "version": 3
   },
   "file_extension": ".py",
   "mimetype": "text/x-python",
   "name": "python",
   "nbconvert_exporter": "python",
   "pygments_lexer": "ipython3",
   "version": "3.6.4"
  }
 },
 "nbformat": 4,
 "nbformat_minor": 2
}
