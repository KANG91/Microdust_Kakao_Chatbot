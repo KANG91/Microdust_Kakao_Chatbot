{
 "cells": [
  {
   "cell_type": "markdown",
   "metadata": {},
   "source": [
    "### 목적 : 대화형 챗봇 구현. \n",
    "1. 사용자의 말을 인식\n",
    "2. 사용자가 미세먼지 정보를 원하는지, 잡담을 원하는지에 대한 인식\n",
    "3. 사용자가 미세먼지 정보를 원할 경우\n",
    "> 3-1 지역 정보를 정확히 인식, 인식 못할 경우 다시 물어보아 오타 혹은 지역명에 대한 확인 요구\n",
    "4. 사용자가 잡담을 원하는 경우\n",
    "> 4-1. 이후 기능 구현"
   ]
  },
  {
   "cell_type": "markdown",
   "metadata": {},
   "source": [
    "#### 가설 1. word2vec의 CBOW\n",
    "- 2번 단계, 사용자가 정보를 원하는지 혹은 잡담을 원하는지에 대한 구분\n",
    "- text 파일 사용, 성능 향상을 위한 특수 기호 및 영어의 경우 stemming 사용\n",
    "- 이후 tokenization 수행, 이 때 tokenization은 string -> list를 의미.  \n",
    "ex) [['token', 'token'], ['token', 'token']]"
   ]
  },
  {
   "cell_type": "code",
   "execution_count": 5,
   "metadata": {
    "scrolled": true
   },
   "outputs": [],
   "source": [
    "import codecs\n",
    "# from konlpy.tag import Twitter\n",
    "# twitter = Twitter()\n",
    "\n",
    "from gensim.models import Word2Vec\n",
    "import multiprocessing"
   ]
  },
  {
   "cell_type": "markdown",
   "metadata": {},
   "source": [
    "Codec이란?\n",
    "- 파이썬에서 일반적으로 유니코드를 다룰 때 사용하는 decode, encode는 대용량 데이터인 경우, 모든 데이터가 메모리에 올라감\n",
    "- ** codecs ** 모듈을 통해 파일을 조금씩 읽어, 메모리에도 약간의 데이터만 올려줄 수 있음"
   ]
  },
  {
   "cell_type": "code",
   "execution_count": 15,
   "metadata": {
    "collapsed": true
   },
   "outputs": [],
   "source": [
    "#서울 주소 정보 가져오기(구, 동)\n",
    "test = open(\"datas/address_seoul.txt\", 'r')\n",
    "address_list = []\n",
    "lines = test.readlines()\n",
    "for line in lines : \n",
    "    line = (line).split(\"|\")\n",
    "    address_list.append(line[3 : 5 + 1])"
   ]
  },
  {
   "cell_type": "code",
   "execution_count": 6,
   "metadata": {},
   "outputs": [],
   "source": [
    "#word2vec parameters\n",
    "parameters = {\n",
    "    \"sg\" : 0, # skip-gram\n",
    "    \"size\" : 100, # dimesionality of the feature vectors\n",
    "    \"window\" : 3,\n",
    "    \"alpha\" :0.01, #learning rate\n",
    "    \"batch_words\" : 10000, #사전 구축 시 한 번에 몇 개의 단어를 읽을 것인가\n",
    "    \"iter\" : 10, # epoch과 유사\n",
    "    \"workers\" : multiprocessing.cpu_count(), #cpu\n",
    "    \n",
    "}"
   ]
  },
  {
   "cell_type": "code",
   "execution_count": 7,
   "metadata": {
    "scrolled": true
   },
   "outputs": [],
   "source": [
    "model = Word2Vec(**parameters)"
   ]
  },
  {
   "cell_type": "code",
   "execution_count": 23,
   "metadata": {
    "collapsed": true
   },
   "outputs": [],
   "source": [
    "model.build_vocab(address_list)"
   ]
  },
  {
   "cell_type": "code",
   "execution_count": 25,
   "metadata": {
    "scrolled": true
   },
   "outputs": [
    {
     "data": {
      "text/plain": [
       "(84085820, 195361500)"
      ]
     },
     "execution_count": 25,
     "metadata": {},
     "output_type": "execute_result"
    }
   ],
   "source": [
    "model.train(address_list, total_examples = 100, epochs = 100, )"
   ]
  },
  {
   "cell_type": "code",
   "execution_count": 58,
   "metadata": {
    "collapsed": true
   },
   "outputs": [],
   "source": [
    "model.save('model')"
   ]
  },
  {
   "cell_type": "code",
   "execution_count": 9,
   "metadata": {},
   "outputs": [],
   "source": [
    "model = Word2Vec.load('model')"
   ]
  },
  {
   "cell_type": "code",
   "execution_count": 10,
   "metadata": {
    "scrolled": false
   },
   "outputs": [
    {
     "data": {
      "text/plain": [
       "[('중계동', 0.9998157024383545),\n",
       " ('공릉동', 0.9992175102233887),\n",
       " ('상계동', 0.9939234256744385)]"
      ]
     },
     "execution_count": 10,
     "metadata": {},
     "output_type": "execute_result"
    }
   ],
   "source": [
    "model.wv.most_similar(\"월계동\", topn = 3)"
   ]
  },
  {
   "cell_type": "code",
   "execution_count": 55,
   "metadata": {
    "scrolled": true
   },
   "outputs": [
    {
     "data": {
      "text/plain": [
       "0.38406586802287679"
      ]
     },
     "execution_count": 55,
     "metadata": {},
     "output_type": "execute_result"
    }
   ],
   "source": [
    "model.wv.similarity(\"흑석동\", \"도봉구\")"
   ]
  },
  {
   "cell_type": "code",
   "execution_count": 51,
   "metadata": {
    "scrolled": true
   },
   "outputs": [
    {
     "data": {
      "text/plain": [
       "[('신월동', 0.44938164949417114),\n",
       " ('목동', 0.4383370578289032),\n",
       " ('신정동', 0.42917102575302124),\n",
       " ('양천구', 0.42728814482688904),\n",
       " ('옥인동', 0.4272083640098572),\n",
       " ('도봉구', 0.4132745862007141),\n",
       " ('누상동', 0.40563732385635376),\n",
       " ('시흥동', 0.3965455889701843),\n",
       " ('독산동', 0.3907299339771271),\n",
       " ('창동', 0.3893088698387146)]"
      ]
     },
     "execution_count": 51,
     "metadata": {},
     "output_type": "execute_result"
    }
   ],
   "source": [
    "model.wv.most_similar(positive = [\"흑석동\", \"종로구\"], negative = [\"상도동\"])"
   ]
  },
  {
   "cell_type": "markdown",
   "metadata": {},
   "source": [
    "#### Comment : \n",
    " word2vec 실습 결과 깨달은 사실\n",
    "- word2vec 기본은 center word를 바탕으로 주변 context를 판단하거나(skip-gram), 주변 context를 바탕으로 center word를 판단하는(CBOW) 방식이 있음\n",
    "- 구현해야 하는 기능은 **오타가 없다는 전제 하에, API가 인식하지 못하는 지역명을 바로 잡아주는 것(예를 들어, 충북, 구로5동 등)**\n",
    "- 해결 아이디어 : 전국 시,도 등 주소가 적힌 csv파일을 찾아 훈련시켜볼 것\n",
    "\n",
    "갑자기 생각난 아이디어!  \n",
    "- 오타가 없다는 전제 하에 API가 인식하지 못하는 지역명 바로잡기\n",
    "> 전국 주소를 word2vec으로 학습\n",
    "- 이외 데이터 학습은 seq2seq로"
   ]
  }
 ],
 "metadata": {
  "kernelspec": {
   "display_name": "Python 3",
   "language": "python",
   "name": "python3"
  },
  "language_info": {
   "codemirror_mode": {
    "name": "ipython",
    "version": 3
   },
   "file_extension": ".py",
   "mimetype": "text/x-python",
   "name": "python",
   "nbconvert_exporter": "python",
   "pygments_lexer": "ipython3",
   "version": "3.6.4"
  }
 },
 "nbformat": 4,
 "nbformat_minor": 2
}
