{
 "cells": [
  {
   "cell_type": "code",
   "execution_count": 1,
   "metadata": {},
   "outputs": [],
   "source": [
    "import pymongo\n",
    "import datetime"
   ]
  },
  {
   "cell_type": "code",
   "execution_count": 2,
   "metadata": {},
   "outputs": [],
   "source": [
    "client = pymongo.MongoClient(\"mongodb://localhost:27017/\")"
   ]
  },
  {
   "cell_type": "code",
   "execution_count": 3,
   "metadata": {},
   "outputs": [],
   "source": [
    "#error messages 라는 database 생성\n",
    "db = client.error_messages"
   ]
  },
  {
   "cell_type": "code",
   "execution_count": 4,
   "metadata": {},
   "outputs": [],
   "source": [
    "#error message database에 messages라는 collection 생성\n",
    "message = db.messages"
   ]
  },
  {
   "cell_type": "code",
   "execution_count": 5,
   "metadata": {},
   "outputs": [],
   "source": [
    "def save_messages(user_key, content) :  \n",
    "    date = datetime.datetime.utcnow()\n",
    "    #한국시간으로 전환\n",
    "    time_gap = datetime.timedelta(hours=9)\n",
    "    date = (date + time_gap).strftime(\"%Y-%m-%d %H:%M:%S\")\n",
    "    post = {\n",
    "        \"user\" : user_key,\n",
    "        \"text\" : content,\n",
    "        \"date\" : date,\n",
    "    }\n",
    "    message.insert_one(post) "
   ]
  },
  {
   "cell_type": "code",
   "execution_count": 5,
   "metadata": {
    "scrolled": false
   },
   "outputs": [
    {
     "data": {
      "text/plain": [
       "[{'_id': ObjectId('5af175c0eca3880437f58f7e'),\n",
       "  'date': '2018-05-08 19:02:40',\n",
       "  'text': '미세먼지를 알려줘',\n",
       "  'user': 'AUOuUh9-IOTH'},\n",
       " {'_id': ObjectId('5af175c4eca3880437f58f7f'),\n",
       "  'date': '2018-05-08 19:02:44',\n",
       "  'text': '영통동',\n",
       "  'user': 'AUOuUh9-IOTH'},\n",
       " {'_id': ObjectId('5af175cbeca3880437f58f80'),\n",
       "  'date': '2018-05-08 19:02:51',\n",
       "  'text': '언남동',\n",
       "  'user': 'AUOuUh9-IOTH'},\n",
       " {'_id': ObjectId('5af175ceeca3880437f58f81'),\n",
       "  'date': '2018-05-08 19:02:54',\n",
       "  'text': '구성역 이디야',\n",
       "  'user': 'AUOuUh9-IOTH'},\n",
       " {'_id': ObjectId('5af175f9eca3880437f58f82'),\n",
       "  'date': '2018-05-08 19:03:37',\n",
       "  'text': '동부 센트레빌',\n",
       "  'user': 'AUOuUh9-IOTH'},\n",
       " {'_id': ObjectId('5af17604eca3880437f58f83'),\n",
       "  'date': '2018-05-08 19:03:48',\n",
       "  'text': '흑석동',\n",
       "  'user': 'AUOuUh9-IOTH'},\n",
       " {'_id': ObjectId('5af17609eca3880437f58f84'),\n",
       "  'date': '2018-05-08 19:03:53',\n",
       "  'text': '충청북도 흑석동',\n",
       "  'user': 'AUOuUh9-IOTH'},\n",
       " {'_id': ObjectId('5af17fd8eca38808f92b7e5d'),\n",
       "  'date': '2018-05-08 19:45:44',\n",
       "  'text': '미세먼지를 알려줘',\n",
       "  'user': 'AUOuUh9-IOTH'},\n",
       " {'_id': ObjectId('5af17fdfeca38808f92b7e5e'),\n",
       "  'date': '2018-05-08 19:45:51',\n",
       "  'text': '영통동',\n",
       "  'user': 'AUOuUh9-IOTH'}]"
      ]
     },
     "execution_count": 5,
     "metadata": {},
     "output_type": "execute_result"
    }
   ],
   "source": [
    "list(message.find())"
   ]
  },
  {
   "cell_type": "code",
   "execution_count": 6,
   "metadata": {
    "scrolled": true
   },
   "outputs": [
    {
     "data": {
      "text/plain": [
       "<pymongo.results.DeleteResult at 0x7f1db8461c08>"
      ]
     },
     "execution_count": 6,
     "metadata": {},
     "output_type": "execute_result"
    }
   ],
   "source": [
    "#collecion 내 document 모두 제거\n",
    "message.delete_many({})"
   ]
  },
  {
   "cell_type": "code",
   "execution_count": null,
   "metadata": {},
   "outputs": [],
   "source": [
    "#collection 내 특정  document 제거\n",
    "message.delete_one({\"status\" : \"D\"})"
   ]
  }
 ],
 "metadata": {
  "kernelspec": {
   "display_name": "Python 3",
   "language": "python",
   "name": "python3"
  },
  "language_info": {
   "codemirror_mode": {
    "name": "ipython",
    "version": 3
   },
   "file_extension": ".py",
   "mimetype": "text/x-python",
   "name": "python",
   "nbconvert_exporter": "python",
   "pygments_lexer": "ipython3",
   "version": "3.6.4"
  }
 },
 "nbformat": 4,
 "nbformat_minor": 2
}
