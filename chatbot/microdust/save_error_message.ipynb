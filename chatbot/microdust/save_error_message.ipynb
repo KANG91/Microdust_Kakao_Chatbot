{
 "cells": [
  {
   "cell_type": "code",
   "execution_count": 1,
   "metadata": {},
   "outputs": [],
   "source": [
    "import pymongo\n",
    "import datetime"
   ]
  },
  {
   "cell_type": "code",
   "execution_count": 2,
   "metadata": {},
   "outputs": [],
   "source": [
    "client = pymongo.MongoClient(\"mongodb://localhost:27017/\")"
   ]
  },
  {
   "cell_type": "code",
   "execution_count": 3,
   "metadata": {},
   "outputs": [],
   "source": [
    "#error messages 라는 database 생성\n",
    "db = client.error_messages"
   ]
  },
  {
   "cell_type": "code",
   "execution_count": 5,
   "metadata": {},
   "outputs": [],
   "source": [
    "#error message database에 messages라는 document 생성\n",
    "message = db.messages"
   ]
  },
  {
   "cell_type": "code",
   "execution_count": 18,
   "metadata": {},
   "outputs": [],
   "source": [
    "def save_messages(user_key, content) :  \n",
    "    date = datetime.datetime.utcnow()\n",
    "    date = date.strftime(\"%A %d. %B %Y\")\n",
    "    post = {\n",
    "        \"user\" : user_key\n",
    "        \"text\" : content,\n",
    "        \"date\" : date,\n",
    "    }\n",
    "    message.insert_one(post) "
   ]
  },
  {
   "cell_type": "code",
   "execution_count": 7,
   "metadata": {},
   "outputs": [
    {
     "data": {
      "text/plain": [
       "[{'_id': ObjectId('5aea9f98eca388567a083bf7'),\n",
       "  'date': 'Thursday 03. May 2018',\n",
       "  'test': '아니오'},\n",
       " {'_id': ObjectId('5aeaa069eca38857c1ab659c'),\n",
       "  'date': 'Thursday 03. May 2018',\n",
       "  'test': '신도림역'}]"
      ]
     },
     "execution_count": 7,
     "metadata": {},
     "output_type": "execute_result"
    }
   ],
   "source": [
    "list(message.find())"
   ]
  }
 ],
 "metadata": {
  "kernelspec": {
   "display_name": "Python 3",
   "language": "python",
   "name": "python3"
  },
  "language_info": {
   "codemirror_mode": {
    "name": "ipython",
    "version": 3
   },
   "file_extension": ".py",
   "mimetype": "text/x-python",
   "name": "python",
   "nbconvert_exporter": "python",
   "pygments_lexer": "ipython3",
   "version": "3.6.4"
  }
 },
 "nbformat": 4,
 "nbformat_minor": 2
}
